{
 "cells": [
  {
   "cell_type": "code",
   "execution_count": 1,
   "metadata": {},
   "outputs": [
    {
     "name": "stderr",
     "output_type": "stream",
     "text": [
      "C:\\Users\\win\\AppData\\Local\\Temp\\ipykernel_5240\\2080034654.py:2: DeprecationWarning: \n",
      "Pyarrow will become a required dependency of pandas in the next major release of pandas (pandas 3.0),\n",
      "(to allow more performant data types, such as the Arrow string type, and better interoperability with other libraries)\n",
      "but was not found to be installed on your system.\n",
      "If this would cause problems for you,\n",
      "please provide us feedback at https://github.com/pandas-dev/pandas/issues/54466\n",
      "        \n",
      "  import pandas as pd\n"
     ]
    }
   ],
   "source": [
    "import numpy as np\n",
    "import pandas as pd\n",
    "import matplotlib.pyplot as plt"
   ]
  },
  {
   "cell_type": "code",
   "execution_count": null,
   "metadata": {},
   "outputs": [],
   "source": [
    "dataset=pd.read_csv(\"Ads_CTR_Optimisation.csv\")\n",
    "print(dataset)"
   ]
  },
  {
   "cell_type": "code",
   "execution_count": null,
   "metadata": {},
   "outputs": [],
   "source": [
    "import math\n",
    "N=10000;\n",
    "d=10;   # no of ads to display\n",
    "ads_selected=[]\n",
    "number_of_selections=[0]*d\n",
    "sum_of_rewards=[0]*4\n",
    "total_reward=0\n",
    "for n in range(0,N):\n",
    "  ad=0;\n",
    "  max_upper_bound=0;\n",
    "  for i in range(0, d):\n",
    "    if(number_of_selections[i]>0):\n",
    "      average_reward=sum_of_rewards[i]/number_of_selections[i];\n",
    "      delta_i=math.sqrt(3/2*math.log(n+1)/number_of_selections[i])\n",
    "      upper_bound=average_reward+delta_i;\n",
    "    else:\n",
    "      upper_bound=1e400\n",
    "    if(upper_bound>max_upper_bound):\n",
    "      max_upper_bound=upper_bound;\n",
    "      ad=i\n",
    "  ads_selected.append(ad)\n",
    "  number_of_selections[ad]+=1\n",
    "  sum_of_rewards[ad]=sum_of_rewards[i]+number_"
   ]
  }
 ],
 "metadata": {
  "kernelspec": {
   "display_name": "Python 3",
   "language": "python",
   "name": "python3"
  },
  "language_info": {
   "codemirror_mode": {
    "name": "ipython",
    "version": 3
   },
   "file_extension": ".py",
   "mimetype": "text/x-python",
   "name": "python",
   "nbconvert_exporter": "python",
   "pygments_lexer": "ipython3",
   "version": "3.12.0"
  }
 },
 "nbformat": 4,
 "nbformat_minor": 2
}
